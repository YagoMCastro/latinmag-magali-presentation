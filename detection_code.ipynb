{
 "cells": [
  {
   "cell_type": "code",
   "execution_count": null,
   "id": "4057b167",
   "metadata": {},
   "outputs": [
    {
     "name": "stderr",
     "output_type": "stream",
     "text": [
      "/home/yago/miniforge3/envs/latinmag/lib/python3.9/site-packages/xrft/xrft.py:573: FutureWarning: Default ifft's behaviour (lag=None) changed! Default value of lag was zero (centered output coordinates) and is now set to transformed coordinate's attribute: 'direct_lag'.\n",
      "  warnings.warn(msg, FutureWarning)\n",
      "/home/yago/miniforge3/envs/latinmag/lib/python3.9/site-packages/xrft/xrft.py:573: FutureWarning: Default ifft's behaviour (lag=None) changed! Default value of lag was zero (centered output coordinates) and is now set to transformed coordinate's attribute: 'direct_lag'.\n",
      "  warnings.warn(msg, FutureWarning)\n"
     ]
    },
    {
     "ename": "NameError",
     "evalue": "name 'xr' is not defined",
     "output_type": "error",
     "traceback": [
      "\u001b[0;31m---------------------------------------------------------------------------\u001b[0m",
      "\u001b[0;31mNameError\u001b[0m                                 Traceback (most recent call last)",
      "Cell \u001b[0;32mIn[26], line 57\u001b[0m\n\u001b[1;32m     52\u001b[0m data_tga \u001b[38;5;241m=\u001b[39m total_gradient_amplitude_grid(data)\n\u001b[1;32m     53\u001b[0m stretched \u001b[38;5;241m=\u001b[39m skimage\u001b[38;5;241m.\u001b[39mexposure\u001b[38;5;241m.\u001b[39mrescale_intensity(\n\u001b[1;32m     54\u001b[0m     data_tga,\n\u001b[1;32m     55\u001b[0m     in_range\u001b[38;5;241m=\u001b[39m\u001b[38;5;28mtuple\u001b[39m(np\u001b[38;5;241m.\u001b[39mpercentile(data_tga, (\u001b[38;5;241m1\u001b[39m, \u001b[38;5;241m99\u001b[39m))),\n\u001b[1;32m     56\u001b[0m )\n\u001b[0;32m---> 57\u001b[0m data_tga_stretched \u001b[38;5;241m=\u001b[39m \u001b[43mxr\u001b[49m\u001b[38;5;241m.\u001b[39mDataArray(stretched, coords\u001b[38;5;241m=\u001b[39mdata_tga\u001b[38;5;241m.\u001b[39mcoords)\n\u001b[1;32m     60\u001b[0m windows \u001b[38;5;241m=\u001b[39m mg\u001b[38;5;241m.\u001b[39mdetect_anomalies(\n\u001b[1;32m     61\u001b[0m     data,\n\u001b[1;32m     62\u001b[0m     size_range \u001b[38;5;241m=\u001b[39m [\u001b[38;5;241m25\u001b[39m, \u001b[38;5;241m50\u001b[39m], \u001b[38;5;66;03m#µm\u001b[39;00m\n\u001b[1;32m     63\u001b[0m     detection_threshold \u001b[38;5;241m=\u001b[39m \u001b[38;5;241m0.8\u001b[39m,\n\u001b[1;32m     64\u001b[0m     border_exclusion\u001b[38;5;241m=\u001b[39m \u001b[38;5;241m2\u001b[39m,\n\u001b[1;32m     65\u001b[0m )\n\u001b[1;32m     67\u001b[0m fig, ax \u001b[38;5;241m=\u001b[39m plt\u001b[38;5;241m.\u001b[39msubplots()\n",
      "\u001b[0;31mNameError\u001b[0m: name 'xr' is not defined"
     ]
    }
   ],
   "source": [
    "import numpy as np\n",
    "import verde as vd\n",
    "import magali as mg\n",
    "import harmonica as hm\n",
    "import skimage.exposure\n",
    "\n",
    "import xarray as xr\n",
    "\n",
    "import matplotlib.pyplot as plt\n",
    "from magali._utils import total_gradient_amplitude_grid\n",
    "\n",
    "SEED = 5\n",
    "rng = np.random.default_rng(SEED)\n",
    "\n",
    "sensor_sample_distance = 5.0  # µm\n",
    "region = [0, 2000, 0, 2000]  # µm\n",
    "spacing = 2  # µm\n",
    "\n",
    "true_inclination = 30  # degrees\n",
    "true_declination = 40  # degrees\n",
    "true_dispersion_angle = 5  # degrees\n",
    "size = 100  # number of random dipoles\n",
    "\n",
    "directions_inclination, directions_declination = mg.random_directions(\n",
    "    true_inclination,\n",
    "    true_declination,\n",
    "    true_dispersion_angle,\n",
    "    size=size,\n",
    "    random_state= SEED,\n",
    ")\n",
    "\n",
    "dipoles_amplitude = abs(rng.normal(0, 100, size)) * 1.0e-14\n",
    "\n",
    "dipole_coordinates = (\n",
    "    rng.integers(30, 1970, size), # x\n",
    "    rng.integers(30, 1970, size), # y\n",
    "    rng.integers(-20, -1, size), # z\n",
    ")\n",
    "\n",
    "dipole_moments = hm.magnetic_angles_to_vec(\n",
    "    inclination=directions_inclination,\n",
    "    declination=directions_declination,\n",
    "    intensity=dipoles_amplitude,\n",
    ")\n",
    "\n",
    "data = mg.dipole_bz_grid(\n",
    "    region, spacing, sensor_sample_distance,\n",
    "    dipole_coordinates, dipole_moments\n",
    ")\n",
    "\n",
    "noise_std_dev = 100  # nT\n",
    "noise = rng.normal(loc=0, scale=noise_std_dev, size=data.shape)\n",
    "data.values += noise\n",
    "\n",
    "data_tga = total_gradient_amplitude_grid(data)\n",
    "stretched = skimage.exposure.rescale_intensity(\n",
    "    data_tga,\n",
    "    in_range=tuple(np.percentile(data_tga, (1, 99))),\n",
    ")\n",
    "data_tga_stretched = xr.DataArray(stretched, coords=data_tga.coords)\n",
    "\n",
    "\n",
    "windows = mg.detect_anomalies(\n",
    "    data,\n",
    "    size_range = [25, 50], #µm\n",
    "    detection_threshold = 0.8,\n",
    "    border_exclusion= 2,\n",
    ")\n",
    "\n",
    "fig, ax = plt.subplots()\n",
    "data.plot.pcolormesh(ax=ax, cmap=\"seismic\", vmin=-5000, vmax=5000)\n",
    "mg.plot_bounding_boxes(windows, ax=ax, color=\"black\", linewidth=1.5)\n",
    "\n",
    "\n",
    "ax.set_title(\"Detected Anomalies\")\n",
    "plt.show()\n"
   ]
  },
  {
   "cell_type": "code",
   "execution_count": null,
   "id": "88828833",
   "metadata": {},
   "outputs": [],
   "source": []
  }
 ],
 "metadata": {
  "language_info": {
   "name": "python"
  }
 },
 "nbformat": 4,
 "nbformat_minor": 5
}
